{
 "cells": [
  {
   "cell_type": "code",
   "execution_count": null,
   "metadata": {},
   "outputs": [],
   "source": [
    "import pandas as pd\n",
    "import numpy as np\n",
    "seed = 2016\n",
    "np.random.seed (seed)\n",
    "y_0 = 1.0\n",
    "alpha = -0.25\n",
    "beta = 0.95\n",
    "num = 10\n",
    "y = pd.Series (y_0)\n",
    "for i in range(num):\n",
    "    y_t = alpha + (beta*y_0) + np.random.uniform(-1, 1)\n",
    "    i += 1\n",
    "    y.at[i]= y_t\n",
    "    y_0 = y_t\n",
    "    \n",
    "print(\"Values of y are: \\n\",y)"
   ]
  },
  {
   "cell_type": "code",
   "execution_count": null,
   "metadata": {
    "scrolled": true
   },
   "outputs": [],
   "source": [
    "%matplotlib inline\n",
    "import matplotlib.pyplot as plt\n",
    "plt.plot(y)"
   ]
  },
  {
   "cell_type": "code",
   "execution_count": null,
   "metadata": {
    "scrolled": true
   },
   "outputs": [],
   "source": [
    "seed = 2016\n",
    "np.random.seed (seed)\n",
    "y_0 = 1.0\n",
    "alpha = -0.25\n",
    "beta = 0.95\n",
    "num = 1000\n",
    "Y = pd.Series (y_0)\n",
    "for i in range(num):\n",
    "    y_t = alpha + (beta*y_0) + np.random.uniform(-1, 1)\n",
    "    i += 1\n",
    "    Y.at[i]= y_t\n",
    "    y_0 = y_t\n",
    "\n",
    "plt.plot(Y)"
   ]
  },
  {
   "cell_type": "code",
   "execution_count": null,
   "metadata": {},
   "outputs": [],
   "source": [
    "import numpy as np"
   ]
  },
  {
   "cell_type": "code",
   "execution_count": null,
   "metadata": {},
   "outputs": [],
   "source": [
    "np.random.seed (2016)\n",
    "print(\"Seed = 2016\", np.random.rand(3))"
   ]
  },
  {
   "cell_type": "code",
   "execution_count": null,
   "metadata": {},
   "outputs": [],
   "source": [
    "np.random.seed (1990)\n",
    "print(\"Seed = 1990\", np.random.rand(3))"
   ]
  },
  {
   "cell_type": "code",
   "execution_count": null,
   "metadata": {
    "scrolled": true
   },
   "outputs": [],
   "source": [
    "np.random.seed (2016)\n",
    "print(\"Seed = 2016\", np.random.rand(3))\n",
    "print(\"not reset = 2016\", np.random.rand(3))"
   ]
  },
  {
   "cell_type": "code",
   "execution_count": null,
   "metadata": {},
   "outputs": [],
   "source": [
    "ysort = y.sort_values()\n",
    "\n",
    "print(ysort)"
   ]
  },
  {
   "cell_type": "code",
   "execution_count": null,
   "metadata": {},
   "outputs": [],
   "source": [
    "%matplotlib inline\n",
    "import matplotlib.pyplot as plt\n",
    "plt.plot(ysort)"
   ]
  },
  {
   "cell_type": "code",
   "execution_count": null,
   "metadata": {},
   "outputs": [],
   "source": [
    "import numpy as np\n",
    "import pandas as pd\n",
    "import random\n",
    "random.seed(2016)\n",
    "sample_size = 100\n",
    "sample = pd.Series(random.sample(range(-10000,10000), sample_size ))\n",
    "x= sample/10000\n",
    "y=x**2"
   ]
  },
  {
   "cell_type": "code",
   "execution_count": null,
   "metadata": {},
   "outputs": [],
   "source": [
    "print(x.head(10))"
   ]
  },
  {
   "cell_type": "code",
   "execution_count": null,
   "metadata": {
    "scrolled": true
   },
   "outputs": [],
   "source": [
    "print(y.head(10))"
   ]
  },
  {
   "cell_type": "code",
   "execution_count": null,
   "metadata": {
    "scrolled": true
   },
   "outputs": [],
   "source": [
    "%matplotlib inline\n",
    "import matplotlib.pyplot as plt\n",
    "plt.scatter(x,y)\n",
    "#plt.plot(x,y)"
   ]
  },
  {
   "cell_type": "code",
   "execution_count": null,
   "metadata": {},
   "outputs": [],
   "source": [
    "print(x.describe())"
   ]
  },
  {
   "cell_type": "code",
   "execution_count": null,
   "metadata": {},
   "outputs": [],
   "source": [
    "# pandas 객체 --> numpy 객체\n",
    "\n",
    "print(type(x))\n",
    "x = np.array(x).reshape((len(x),))\n",
    "print(type(x))"
   ]
  },
  {
   "cell_type": "code",
   "execution_count": null,
   "metadata": {},
   "outputs": [],
   "source": [
    "print(type(y))\n",
    "y = np.array(y).reshape((len(y),))\n",
    "print(type(y))"
   ]
  },
  {
   "cell_type": "code",
   "execution_count": null,
   "metadata": {},
   "outputs": [],
   "source": [
    "# 1-dim --> 2-dim\n",
    "\n",
    "print(x.shape)"
   ]
  },
  {
   "cell_type": "code",
   "execution_count": null,
   "metadata": {},
   "outputs": [],
   "source": [
    "print(x.shape)"
   ]
  },
  {
   "cell_type": "code",
   "execution_count": null,
   "metadata": {},
   "outputs": [],
   "source": [
    "x = x.reshape(-1,1)\n",
    "print(x.shape)"
   ]
  },
  {
   "cell_type": "code",
   "execution_count": null,
   "metadata": {
    "scrolled": true
   },
   "outputs": [],
   "source": [
    "from sklearn.neural_network import MLPRegressor\n",
    "\n",
    "model = MLPRegressor(activation = 'tanh', hidden_layer_sizes=[10, 7, 4], max_iter = 100, \n",
    "                     learning_rate_init = 0.05)\n",
    "\n",
    "model.fit(x,y)"
   ]
  },
  {
   "cell_type": "code",
   "execution_count": null,
   "metadata": {},
   "outputs": [],
   "source": [
    "from sklearn.metrics import r2_score\n",
    "print(r2_score(y, model.predict(x)))"
   ]
  },
  {
   "cell_type": "code",
   "execution_count": null,
   "metadata": {
    "scrolled": false
   },
   "outputs": [],
   "source": [
    "%matplotlib inline\n",
    "import matplotlib.pyplot as plt\n",
    "plt.scatter(x, y, marker = '^',  label = \"y_true\")\n",
    "plt.scatter(x, model.predict(x), marker = 'o', label = \"y_pred\" )\n",
    "plt.legend( )"
   ]
  },
  {
   "cell_type": "code",
   "execution_count": null,
   "metadata": {},
   "outputs": [],
   "source": [
    "td = (0.5, 0.2, 0.3,0.7,0.9)\n",
    "td = np.array(td).reshape((len(td),))\n",
    "td = td.reshape(-1,1)\n",
    "model.predict(td)"
   ]
  },
  {
   "cell_type": "code",
   "execution_count": null,
   "metadata": {
    "scrolled": true
   },
   "outputs": [],
   "source": [
    "import numpy as np\n",
    "import pandas as pd\n",
    "\n",
    "#location = \"C:\\\\TimeSeriesAnalysisWithDNN\\\\Data\\\\gas_con_2010_2019.xls\"\n",
    "location = \"datasets/gas_con_2010_2019.xls\""
   ]
  },
  {
   "cell_type": "code",
   "execution_count": null,
   "metadata": {},
   "outputs": [],
   "source": [
    "# pandas ExcelFile method 이용하여 excel 파일 불러옴\n",
    "\n",
    "Excel_file = pd.ExcelFile(location)"
   ]
  },
  {
   "cell_type": "code",
   "execution_count": null,
   "metadata": {},
   "outputs": [],
   "source": [
    "# 스프레드시트 파일의 워크시트 이름 확인\n",
    "\n",
    "print(Excel_file.sheet_names)"
   ]
  },
  {
   "cell_type": "code",
   "execution_count": null,
   "metadata": {
    "scrolled": true
   },
   "outputs": [],
   "source": [
    "# 워크시트의 데이터를 Dataframe 으로 저장하고 정보확인\n",
    "\n",
    "spreadsheet = Excel_file.parse('Gas Consumption Monthly')\n",
    "print(spreadsheet.info())"
   ]
  },
  {
   "cell_type": "code",
   "execution_count": null,
   "metadata": {},
   "outputs": [],
   "source": [
    "print(spreadsheet)"
   ]
  },
  {
   "cell_type": "code",
   "execution_count": null,
   "metadata": {},
   "outputs": [],
   "source": [
    "# Consumption: 월별 휘발유 소비량. 타겟 변수로 정함. data 객체에 저장\n",
    "\n",
    "data = spreadsheet['Consumption']\n",
    "\n",
    "print(data.head())"
   ]
  },
  {
   "cell_type": "code",
   "execution_count": null,
   "metadata": {
    "scrolled": true
   },
   "outputs": [],
   "source": [
    "%matplotlib inline\n",
    "import matplotlib.pyplot as plt\n",
    "from pandas.plotting import register_matplotlib_converters\n",
    "register_matplotlib_converters()\n",
    "plt.plot(spreadsheet['DATE'], spreadsheet['Consumption'])"
   ]
  },
  {
   "cell_type": "code",
   "execution_count": null,
   "metadata": {},
   "outputs": [],
   "source": [
    "# 데이터 저장\n",
    "#location = \"C:\\\\TimeSeriesAnalysisWithDNN\\\\Data\\\\gas_con_2010_2019.csv\"\n",
    "location = \"datasets/gas_con_2010_2019.csv\"\n",
    "spreadsheet.to_csv(location)"
   ]
  },
  {
   "cell_type": "code",
   "execution_count": null,
   "metadata": {},
   "outputs": [],
   "source": [
    "# 정규화를 위해 sklearn 모듈의 MinMaxScaler 사용\n",
    "\n",
    "from sklearn import preprocessing\n",
    "scaler = preprocessing.MinMaxScaler(feature_range = (0,1))\n",
    "print(scaler)\n",
    "\n",
    "#> MinMaxScaler(copy = True, feature_range=(0, 1))\n",
    "#> copy = True 가 기본 옵션.\n",
    "#> 입력이 numpy array 인 경우 copy = False 로 두면 in-place row normalization 가능\n",
    "#> 입력이 pandas Series 이므로 copy = True 로 둠"
   ]
  },
  {
   "cell_type": "code",
   "execution_count": null,
   "metadata": {},
   "outputs": [],
   "source": [
    "# pandas 객체에서 numpy 객체로 전환\n",
    "\n",
    "x = data\n",
    "print(type(x))"
   ]
  },
  {
   "cell_type": "code",
   "execution_count": null,
   "metadata": {
    "scrolled": true
   },
   "outputs": [],
   "source": [
    "x = np.array(x).reshape((len(x),))\n",
    "print(type(x))"
   ]
  },
  {
   "cell_type": "code",
   "execution_count": null,
   "metadata": {},
   "outputs": [],
   "source": [
    "x[0:6]"
   ]
  },
  {
   "cell_type": "code",
   "execution_count": null,
   "metadata": {},
   "outputs": [],
   "source": [
    "# log transform\n",
    "\n",
    "x = np.log(x)"
   ]
  },
  {
   "cell_type": "code",
   "execution_count": null,
   "metadata": {},
   "outputs": [],
   "source": [
    "x[0:6]"
   ]
  },
  {
   "cell_type": "code",
   "execution_count": null,
   "metadata": {},
   "outputs": [],
   "source": [
    "# 1-dim --> 2-dim\n",
    "\n",
    "x = x.reshape(-1,1)"
   ]
  },
  {
   "cell_type": "code",
   "execution_count": null,
   "metadata": {},
   "outputs": [],
   "source": [
    "x[0:6]"
   ]
  },
  {
   "cell_type": "code",
   "execution_count": null,
   "metadata": {},
   "outputs": [],
   "source": [
    "# scale x\n",
    "\n",
    "x = scaler.fit_transform(x)"
   ]
  },
  {
   "cell_type": "code",
   "execution_count": null,
   "metadata": {},
   "outputs": [],
   "source": [
    "# 2-dim --> 1-dim\n",
    "\n",
    "x = x.reshape(-1)\n",
    "print(x.shape)"
   ]
  },
  {
   "cell_type": "code",
   "execution_count": null,
   "metadata": {},
   "outputs": [],
   "source": [
    "print(round(x.min(),2))\n",
    "print(round(x.max(),2))"
   ]
  },
  {
   "cell_type": "code",
   "execution_count": null,
   "metadata": {},
   "outputs": [],
   "source": [
    "from statsmodels.tsa.stattools import pacf\n",
    "x_pacf = pacf(x, nlags = 40, method = 'ols')\n",
    "print(x_pacf)"
   ]
  },
  {
   "cell_type": "code",
   "execution_count": null,
   "metadata": {
    "scrolled": true
   },
   "outputs": [],
   "source": [
    "from statsmodels.graphics.tsaplots import plot_pacf\n",
    "plot_pacf(x, lags=40, method='ols', title='Partial Autocorrelation')"
   ]
  },
  {
   "cell_type": "code",
   "execution_count": null,
   "metadata": {},
   "outputs": [],
   "source": [
    "from nnet_ts import *\n",
    "count = 0\n",
    "ahead = 12\n",
    "pred = []\n",
    "while(count < ahead):\n",
    "    end = len(x) - ahead + count\n",
    "    np.random.seed(2016)\n",
    "    fit1 = TimeSeriesNnet(hidden_layers = [40, 20, 10, 5], activation_functions = ['tanh', 'tanh', 'tanh', 'tanh'])\n",
    "    fit1.fit(x[0:end], lag = 12, epochs = 50)\n",
    "    out = fit1.predict_ahead(n_ahead = 1)\n",
    "    print(\"Obs: \", count + 1, \" x= \", round(x[end], 4), \n",
    "         \"prediction = \", round(pd.Series(out), 4))\n",
    "    pred.append(out)\n",
    "    count += 1  "
   ]
  },
  {
   "cell_type": "code",
   "execution_count": null,
   "metadata": {
    "scrolled": false
   },
   "outputs": [],
   "source": [
    "pred1 = scaler.inverse_transform(pred)\n",
    "pred1 = np.exp(pred1)\n",
    "print(np.round(pred1, 1))"
   ]
  },
  {
   "cell_type": "code",
   "execution_count": null,
   "metadata": {},
   "outputs": [],
   "source": [
    "plt.plot(x[len(x) - ahead:len(x)], marker = '^', label = \"Original series\")\n",
    "plt.plot(pred, marker = 'o', label = \"Prediction\")\n",
    "plt.legend()"
   ]
  },
  {
   "cell_type": "code",
   "execution_count": null,
   "metadata": {},
   "outputs": [],
   "source": []
  }
 ],
 "metadata": {
  "kernelspec": {
   "display_name": "Python 3",
   "language": "python",
   "name": "python3"
  },
  "language_info": {
   "codemirror_mode": {
    "name": "ipython",
    "version": 3
   },
   "file_extension": ".py",
   "mimetype": "text/x-python",
   "name": "python",
   "nbconvert_exporter": "python",
   "pygments_lexer": "ipython3",
   "version": "3.7.7"
  }
 },
 "nbformat": 4,
 "nbformat_minor": 2
}
